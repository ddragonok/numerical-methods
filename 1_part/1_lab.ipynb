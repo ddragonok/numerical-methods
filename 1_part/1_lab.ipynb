{
 "cells": [
  {
   "cell_type": "code",
   "execution_count": 34,
   "metadata": {},
   "outputs": [],
   "source": [
    "def sin_x(x, eps=0.000001):\n",
    "    if abs(x) > 2 * math.pi:\n",
    "        x %= 2 * math.pi\n",
    "    cur = x\n",
    "    res = 0\n",
    "    n = 0\n",
    "    while abs(cur) > eps:\n",
    "        res += cur\n",
    "        n += 1\n",
    "        cur *= (-1 * x**2)/(2*n*(2*n + 1))\n",
    "    return res"
   ]
  },
  {
   "cell_type": "code",
   "execution_count": 35,
   "metadata": {},
   "outputs": [],
   "source": [
    "def cos_x(x, eps=0.000001):\n",
    "    if abs(x) > 2 * math.pi:\n",
    "        x %= 2 * math.pi\n",
    "    cur = 1\n",
    "    res = 0\n",
    "    n = 0\n",
    "    while abs(cur) > eps:\n",
    "        res += cur\n",
    "        n += 1\n",
    "        cur *= (-1 * x**2)/(2*n*(2*n - 1))\n",
    "    return res"
   ]
  },
  {
   "cell_type": "code",
   "execution_count": 36,
   "metadata": {},
   "outputs": [],
   "source": [
    "def e_x(x, eps=0.000001):\n",
    "    cur = 1\n",
    "    res = 0\n",
    "    n = 0\n",
    "    while abs(cur) > eps:\n",
    "        res += cur\n",
    "        n += 1\n",
    "        cur *= x / n\n",
    "    return res"
   ]
  },
  {
   "cell_type": "code",
   "execution_count": 51,
   "metadata": {},
   "outputs": [],
   "source": [
    "def lg_x(x, eps=0.000001):\n",
    "    if x <= 0:\n",
    "        return 'Wrong x!'\n",
    "    comp = 0\n",
    "    while abs(x) > 1:\n",
    "        x /=10\n",
    "        comp += 1\n",
    "    x -= 1\n",
    "    cur = x\n",
    "    res = 0\n",
    "    num = x\n",
    "    denom = 1\n",
    "    while abs(cur) > eps:\n",
    "        res += cur\n",
    "        num *= -x\n",
    "        denom += 1\n",
    "        cur = num / denom\n",
    "    return (res / math.log(10)) + comp"
   ]
  },
  {
   "cell_type": "code",
   "execution_count": 52,
   "metadata": {},
   "outputs": [
    {
     "name": "stdout",
     "output_type": "stream",
     "text": [
      "0\n",
      "sin(0) = 0\n",
      "cos(0) = 1\n",
      "e(0) = 1\n",
      "lg(0) = Wrong x!\n"
     ]
    }
   ],
   "source": [
    "x = int(input())\n",
    "res = sin_x(x)\n",
    "print('sin(', x, ') = ', res, sep = '')\n",
    "res = cos_x(x)\n",
    "print('cos(', x, ') = ', res, sep = '')\n",
    "res = e_x(x)\n",
    "print('e(', x, ') = ', res, sep = '')\n",
    "res = lg_x(x)\n",
    "print('lg(', x, ') = ', res, sep = '')"
   ]
  }
 ],
 "metadata": {
  "kernelspec": {
   "display_name": "Python 3",
   "language": "python",
   "name": "python3"
  },
  "language_info": {
   "codemirror_mode": {
    "name": "ipython",
    "version": 3
   },
   "file_extension": ".py",
   "mimetype": "text/x-python",
   "name": "python",
   "nbconvert_exporter": "python",
   "pygments_lexer": "ipython3",
   "version": "3.8.5"
  }
 },
 "nbformat": 4,
 "nbformat_minor": 4
}
