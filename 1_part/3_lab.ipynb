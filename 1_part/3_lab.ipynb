{
 "cells": [
  {
   "cell_type": "code",
   "execution_count": 69,
   "metadata": {},
   "outputs": [],
   "source": [
    "import math\n",
    "import matplotlib.pyplot as plt"
   ]
  },
  {
   "cell_type": "code",
   "execution_count": 70,
   "metadata": {},
   "outputs": [],
   "source": [
    "x_knot = [0.1*math.pi, 0.2*math.pi, 0.3*math.pi, 0.4*math.pi]\n",
    "y_knot = [math.sin(x_knot[0]), math.sin(x_knot[1]), math.sin(x_knot[2]), math.sin(x_knot[3])]\n",
    "count = 100\n",
    "h = (x_knot[3] - x_knot[0]) / count"
   ]
  },
  {
   "cell_type": "code",
   "execution_count": 71,
   "metadata": {},
   "outputs": [],
   "source": [
    "def lagrange(x_knot, y_knot, h):\n",
    "    x = [x_knot[0]]\n",
    "    Lag = [y_knot[0]]\n",
    "    for n in range(count):\n",
    "        x.append(x[-1] + h)\n",
    "        Lag_i = 0\n",
    "        for i in range(len(x_knot)):\n",
    "            l = 1\n",
    "            for j in range(len(x_knot)):\n",
    "                if j == i:\n",
    "                    continue\n",
    "                l *= (x[-1] - x_knot[j]) / (x_knot[i] - x_knot[j])\n",
    "            Lag_i += y_knot[i] * l\n",
    "        Lag.append(Lag_i)\n",
    "    return x, Lag"
   ]
  },
  {
   "cell_type": "code",
   "execution_count": 72,
   "metadata": {},
   "outputs": [],
   "source": [
    "def divided_diff(x_knot, y_knot):\n",
    "    f = []\n",
    "    for i in range(len(x_knot)):\n",
    "        f.append([])\n",
    "    for i in range(len(x_knot)):\n",
    "        f[i].append(y_knot[i])\n",
    "\n",
    "    for j in range(1, len(x_knot)): # Order of the divided difference\n",
    "        for i in range(len(x_knot)):\n",
    "            if i < len(x_knot) - j:\n",
    "                f[i].append((f[i + 1][j - 1] - f[i][j - 1]) / (x_knot[i + j] - x_knot[i]))\n",
    "    return f"
   ]
  },
  {
   "cell_type": "code",
   "execution_count": 73,
   "metadata": {},
   "outputs": [],
   "source": [
    "def newton(x_knot, y_knot, h):\n",
    "    x = [x_knot[0]]\n",
    "    New = [y_knot[0]]\n",
    "    f = divided_diff(x_knot, y_knot)\n",
    "    for n in range(count):\n",
    "        x.append(x[-1] + h)\n",
    "        New_i = y_knot[0]\n",
    "        mult = 1\n",
    "        for i in range(1, len(x_knot)):\n",
    "            mult *= (x[-1] - x_knot[i - 1])\n",
    "            New_i += mult * f[0][i]\n",
    "        New.append(New_i)\n",
    "    return x, New"
   ]
  },
  {
   "cell_type": "code",
   "execution_count": 74,
   "metadata": {},
   "outputs": [
    {
     "data": {
      "image/png": "[encoded data removed]",
      "text/plain": [
       "<Figure size 432x288 with 1 Axes>"
      ]
     },
     "metadata": {
      "needs_background": "light"
     },
     "output_type": "display_data"
    }
   ],
   "source": [
    "x = []\n",
    "Lag = []\n",
    "x, Lag = lagrange(x_knot, y_knot, h)\n",
    "\n",
    "plt.grid(True)\n",
    "plt.title('Lagrange polynomial')\n",
    "plt.plot(x, Lag, 'red')\n",
    "plt.show()"
   ]
  },
  {
   "cell_type": "code",
   "execution_count": 75,
   "metadata": {},
   "outputs": [
    {
     "data": {
      "image/png": "[encoded data removed]",
      "text/plain": [
       "<Figure size 432x288 with 1 Axes>"
      ]
     },
     "metadata": {
      "needs_background": "light"
     },
     "output_type": "display_data"
    }
   ],
   "source": [
    "x = []\n",
    "New = []\n",
    "x, New = newton(x_knot, y_knot, h)\n",
    "\n",
    "plt.grid(True)\n",
    "plt.title('Newton polynomial')\n",
    "plt.plot(x, New, 'blue')\n",
    "plt.show()"
   ]
  }
 ],
 "metadata": {
  "kernelspec": {
   "display_name": "Python 3",
   "language": "python",
   "name": "python3"
  },
  "language_info": {
   "codemirror_mode": {
    "name": "ipython",
    "version": 3
   },
   "file_extension": ".py",
   "mimetype": "text/x-python",
   "name": "python",
   "nbconvert_exporter": "python",
   "pygments_lexer": "ipython3",
   "version": "3.8.5"
  }
 },
 "nbformat": 4,
 "nbformat_minor": 4
}
