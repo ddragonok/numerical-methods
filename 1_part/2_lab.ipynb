{
 "cells": [
  {
   "cell_type": "code",
   "execution_count": 1,
   "metadata": {},
   "outputs": [],
   "source": [
    "def diff_first(y2, y1, h):\n",
    "    return (y2 - y1) / h"
   ]
  },
  {
   "cell_type": "code",
   "execution_count": 2,
   "metadata": {},
   "outputs": [],
   "source": [
    "def diff_second(y3, y2, y1, h):\n",
    "    return (y3 - 2*y2 + y1) / h**2"
   ]
  },
  {
   "cell_type": "code",
   "execution_count": 3,
   "metadata": {},
   "outputs": [
    {
     "name": "stdout",
     "output_type": "stream",
     "text": [
      "Left differences in x = 1: 0.5\n",
      "Right differences in x = 1: 0.36602999999999997\n",
      "Central differences in x = 1: 0.433015\n",
      "Second order difference in x =1: -0.13397000000000003\n"
     ]
    }
   ],
   "source": [
    "x = [-1, 0, 1, 2, 3]\n",
    "y = [-0.5, 0, 0.5, 0.86603, 1]\n",
    "h = 1\n",
    "print('Left differences in x = 1:', diff_first(y[2], y[1], h))\n",
    "print('Right differences in x = 1:', diff_first(y[3], y[2], h))\n",
    "print('Central differences in x = 1:', diff_first(y[3], y[1], 2*h))\n",
    "print('Second order difference in x =1:', diff_second(y[3], y[2], y[1], h))"
   ]
  },
  {
   "cell_type": "code",
   "execution_count": null,
   "metadata": {},
   "outputs": [],
   "source": []
  }
 ],
 "metadata": {
  "kernelspec": {
   "display_name": "Python 3",
   "language": "python",
   "name": "python3"
  },
  "language_info": {
   "codemirror_mode": {
    "name": "ipython",
    "version": 3
   },
   "file_extension": ".py",
   "mimetype": "text/x-python",
   "name": "python",
   "nbconvert_exporter": "python",
   "pygments_lexer": "ipython3",
   "version": "3.8.5"
  }
 },
 "nbformat": 4,
 "nbformat_minor": 4
}
