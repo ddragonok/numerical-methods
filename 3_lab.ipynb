{
 "cells": [
  {
   "cell_type": "code",
   "execution_count": 30,
   "metadata": {},
   "outputs": [],
   "source": [
    "import math\n",
    "import matplotlib.pyplot as plt\n",
    "\n",
    "count = 100"
   ]
  },
  {
   "cell_type": "code",
   "execution_count": 31,
   "metadata": {},
   "outputs": [],
   "source": [
    "def lagrange(x_knot, y_knot):\n",
    "    h = (x_knot[3] - x_knot[0])/count\n",
    "    x = [x_knot[0]]\n",
    "    l = 1\n",
    "    Lag_i = 0\n",
    "    Lag = [y_knot[0]]\n",
    "    for n in range(count):\n",
    "        x.append(x[-1] + h)\n",
    "        for i in range(4):\n",
    "            for j in range(4):\n",
    "                if j == i:\n",
    "                    continue\n",
    "                l *= (x[-1] - x_knot[j]) / (x_knot[i] - x_knot[j])\n",
    "            Lag_i += y_knot[i] * l\n",
    "            l = 1\n",
    "        Lag.append(Lag_i)\n",
    "        Lag_i = 0\n",
    "    return x, Lag"
   ]
  },
  {
   "cell_type": "code",
   "execution_count": 32,
   "metadata": {},
   "outputs": [],
   "source": [
    "x_knot = [0.1*math.pi, 0.2*math.pi, 0.3*math.pi, 0.4*math.pi]\n",
    "y_knot = [math.sin(x_knot[0]), math.sin(x_knot[1]), math.sin(x_knot[2]), math.sin(x_knot[3])]\n",
    "x = []\n",
    "Lag = []\n",
    "\n",
    "x, Lag = lagrange(x_knot, y_knot)"
   ]
  },
  {
   "cell_type": "code",
   "execution_count": 36,
   "metadata": {},
   "outputs": [
    {
     "data": {
      "image/png": "[encoded data removed]",
      "text/plain": [
       "<Figure size 432x288 with 1 Axes>"
      ]
     },
     "metadata": {
      "needs_background": "light"
     },
     "output_type": "display_data"
    }
   ],
   "source": [
    "plt.grid(True)\n",
    "plt.plot(x, Lag)\n",
    "plt.show()"
   ]
  }
 ],
 "metadata": {
  "kernelspec": {
   "display_name": "Python 3",
   "language": "python",
   "name": "python3"
  },
  "language_info": {
   "codemirror_mode": {
    "name": "ipython",
    "version": 3
   },
   "file_extension": ".py",
   "mimetype": "text/x-python",
   "name": "python",
   "nbconvert_exporter": "python",
   "pygments_lexer": "ipython3",
   "version": "3.8.5"
  }
 },
 "nbformat": 4,
 "nbformat_minor": 4
}
